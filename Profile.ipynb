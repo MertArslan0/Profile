{
 "cells": [
  {
   "cell_type": "code",
   "execution_count": 1,
   "metadata": {},
   "outputs": [],
   "source": [
    "import cv2\n",
    "import numpy as np\n",
    "%matplotlib inline \n",
    "import matplotlib.pyplot as plt\n",
    "import matplotlib.image as mpimg"
   ]
  },
  {
   "cell_type": "code",
   "execution_count": 2,
   "metadata": {},
   "outputs": [
    {
     "name": "stdout",
     "output_type": "stream",
     "text": [
      "Dosya: \n",
      "test_5.jpg\n"
     ]
    }
   ],
   "source": [
    "# Kullanılacak görüntünün dosya ismini kullanıcıya sormak\n",
    "print('Dosya: ')\n",
    "filename = input()"
   ]
  },
  {
   "cell_type": "code",
   "execution_count": 3,
   "metadata": {},
   "outputs": [],
   "source": [
    "img1 = cv2.imread(filename)"
   ]
  },
  {
   "cell_type": "code",
   "execution_count": 4,
   "metadata": {},
   "outputs": [],
   "source": [
    "img = cv2.resize(img1, (320, 256))"
   ]
  },
  {
   "cell_type": "code",
   "execution_count": 6,
   "metadata": {},
   "outputs": [
    {
     "data": {
      "text/plain": [
       "<function destroyAllWindows>"
      ]
     },
     "execution_count": 6,
     "metadata": {},
     "output_type": "execute_result"
    }
   ],
   "source": [
    "# Mouse ile kullanıcın  alan seçmesine izin vermek\n",
    "ix = -1\n",
    "iy = -1\n",
    "drawing = False\n",
    "selected = False\n",
    "\n",
    "def draw_reactangle_with_drag(event, x, y, flags, param):\n",
    "    global ix, iy, drawing, img\n",
    "    if event == cv2.EVENT_LBUTTONDOWN:\n",
    "        drawing = True\n",
    "        ix = x\n",
    "        iy = y\n",
    "\n",
    "\n",
    "    elif event == cv2.EVENT_MOUSEMOVE:\n",
    "        if drawing == True:\n",
    "            img2 = cv2.resize(img1, (320, 256))\n",
    "            cv2.rectangle(img2, pt1=(ix,iy), pt2=(x, y),color=(255,0,0),thickness=2)\n",
    "            img = img2\n",
    "\n",
    "    elif event == cv2.EVENT_LBUTTONUP:\n",
    "        drawing = False\n",
    "        img2 = cv2.resize(img1, (320, 256))\n",
    "        cv2.rectangle(img2, pt1=(ix,iy), pt2=(x, y),color=(255,0,0),thickness=2)\n",
    "        img = img2\n",
    "        \n",
    "        # Crop\n",
    "        crop_img = img2[iy:y, ix:x]\n",
    "        \n",
    "        \n",
    "        # Kenar bulma algoritması ile köşeleri bulmak mavi ile işaretlemek\n",
    "        gray = cv2.cvtColor(crop_img, cv2.COLOR_BGR2GRAY) \n",
    "\n",
    "        \n",
    "        corners = cv2.goodFeaturesToTrack(gray, 27, 0.3, 10) \n",
    "        corners = np.int0(corners) \n",
    "\n",
    "        # koseleri cizdir\n",
    "        for i in corners: \n",
    "            xc, yc = i.ravel() \n",
    "\n",
    "            height, width, channels = crop_img.shape\n",
    "            \n",
    "            # cercevede bulunanlari cizdirme\n",
    "            if xc<5 or yc<5 or xc>width-5:\n",
    "                continue\n",
    "\n",
    "            # koselere yuvarlak koy\n",
    "            cv2.circle(img, (ix+xc, iy+yc), 3, 255, -1)\n",
    "            \n",
    "            # koselerin koordinatlari\n",
    "            print(ix+xc,':',iy+yc)\n",
    "\n",
    "        plt.imshow(img)\n",
    "        \n",
    "\n",
    "cv2.namedWindow(winname= \"Profile\")\n",
    "cv2.setMouseCallback(\"Profile\", draw_reactangle_with_drag)\n",
    "\n",
    "while True:\n",
    "    cv2.imshow(\"Profile\", img)\n",
    "    if cv2.waitKey(10) == 27: #esc\n",
    "        break\n",
    "cv2.destroyAllWindows()"
   ]
  },
  {
   "cell_type": "code",
   "execution_count": null,
   "metadata": {},
   "outputs": [],
   "source": []
  }
 ],
 "metadata": {
  "kernelspec": {
   "display_name": "Python 3",
   "language": "python",
   "name": "python3"
  },
  "language_info": {
   "codemirror_mode": {
    "name": "ipython",
    "version": 3
   },
   "file_extension": ".py",
   "mimetype": "text/x-python",
   "name": "python",
   "nbconvert_exporter": "python",
   "pygments_lexer": "ipython3",
   "version": "3.8.3"
  }
 },
 "nbformat": 4,
 "nbformat_minor": 4
}
